{
  "nbformat": 4,
  "nbformat_minor": 0,
  "metadata": {
    "colab": {
      "provenance": [],
      "mount_file_id": "1BhC9dmL5KUFlAz3LNYo-9akZrMmLVosB",
      "authorship_tag": "ABX9TyP99QuOMOX/Ne/8WWeWjJXg",
      "include_colab_link": true
    },
    "kernelspec": {
      "name": "python3",
      "display_name": "Python 3"
    },
    "language_info": {
      "name": "python"
    }
  },
  "cells": [
    {
      "cell_type": "markdown",
      "metadata": {
        "id": "view-in-github",
        "colab_type": "text"
      },
      "source": [
        "<a href=\"https://colab.research.google.com/github/Wilvme/Flower-Recognition/blob/master/C%C3%B3pia_de_Torch_Tensor.ipynb\" target=\"_parent\"><img src=\"https://colab.research.google.com/assets/colab-badge.svg\" alt=\"Open In Colab\"/></a>"
      ]
    },
    {
      "cell_type": "code",
      "execution_count": null,
      "metadata": {
        "colab": {
          "base_uri": "https://localhost:8080/"
        },
        "id": "RC-IHq6c4fcI",
        "outputId": "314d7842-5ad9-4734-e5c6-b83229d63405"
      },
      "outputs": [
        {
          "output_type": "stream",
          "name": "stdout",
          "text": [
            "tensor([[[216, 221, 222,  ..., 184, 168, 157],\n",
            "         [218, 218, 216,  ..., 165, 154, 148],\n",
            "         [229, 225, 222,  ..., 158, 152, 150],\n",
            "         ...,\n",
            "         [157, 159, 160,  ..., 153, 153, 152],\n",
            "         [157, 158, 160,  ..., 156, 157, 157],\n",
            "         [156, 158, 160,  ..., 159, 161, 163]],\n",
            "\n",
            "        [[228, 233, 234,  ..., 174, 158, 147],\n",
            "         [230, 230, 228,  ..., 156, 145, 139],\n",
            "         [240, 236, 233,  ..., 155, 149, 147],\n",
            "         ...,\n",
            "         [169, 171, 172,  ..., 164, 164, 163],\n",
            "         [169, 170, 172,  ..., 167, 168, 168],\n",
            "         [168, 170, 172,  ..., 170, 172, 174]],\n",
            "\n",
            "        [[224, 229, 230,  ..., 165, 149, 138],\n",
            "         [226, 226, 224,  ..., 149, 138, 132],\n",
            "         [236, 232, 229,  ..., 150, 144, 142],\n",
            "         ...,\n",
            "         [169, 171, 172,  ..., 166, 166, 165],\n",
            "         [169, 170, 172,  ..., 169, 170, 170],\n",
            "         [168, 170, 172,  ..., 172, 174, 176]]], dtype=torch.uint8)\n"
          ]
        }
      ],
      "source": [
        "# Import necessary libraries\n",
        "import torch\n",
        "from PIL import Image\n",
        "import torchvision.transforms as transforms\n",
        "\n",
        "# Read a PIL image\n",
        "image = Image.open('/content/catsxdogs Teste.jpg')\n",
        "\n",
        "# Define a transform to convert PIL\n",
        "# image to a Torch tensor\n",
        "transform = transforms.Compose([\n",
        "    transforms.PILToTensor()\n",
        "])\n",
        "\n",
        "# transform = transforms.PILToTensor()\n",
        "# Convert the PIL image to Torch tensor\n",
        "img_tensor = transform(image)\n",
        "\n",
        "# print the converted Torch tensor\n",
        "print(img_tensor)"
      ]
    }
  ]
}